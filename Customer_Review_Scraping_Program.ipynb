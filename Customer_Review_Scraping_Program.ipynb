{
 "cells": [
  {
   "cell_type": "markdown",
   "id": "198f4d90",
   "metadata": {},
   "source": [
    "# Customer Review Scraping"
   ]
  },
  {
   "cell_type": "code",
   "execution_count": 11,
   "id": "4dd617e0",
   "metadata": {},
   "outputs": [],
   "source": [
    "import requests\n",
    "from bs4 import BeautifulSoup\n",
    "import json\n",
    "import pandas as pd\n",
    "import numpy as np\n",
    "from datetime import datetime\n",
    "import pickle"
   ]
  },
  {
   "cell_type": "code",
   "execution_count": 2,
   "id": "826d2314",
   "metadata": {},
   "outputs": [],
   "source": [
    "def generate_url(product, page, platform='PLT1', time_ordered=False):\n",
    "    if platform == 'PLT1':\n",
    "        domain_      = 'https://hue.platform1.com'\n",
    "        path_before  = '/marketplace-web-app-service/api/review/'\n",
    "        \n",
    "        if time_ordered:\n",
    "            path_after   = '?order=1&page='\n",
    "        else:\n",
    "            path_after   = '?page='\n",
    "            \n",
    "        product_id=product\n",
    "        page_=str(page)\n",
    "        url = domain_+path_before+product_id+path_after+str(page_)\n",
    "    \n",
    "    elif platform == 'PLT2':\n",
    "        \n",
    "        domain_      = 'https://www.platform2.com'\n",
    "        path_before  = '/source/service/product-detail/reviews/'\n",
    "        path_after   = '?page='\n",
    "        product_id=product\n",
    "        page_=str(page)\n",
    "        url = domain_+path_before+product_id+path_after+str(page_)\n",
    "        \n",
    "    return url"
   ]
  },
  {
   "cell_type": "code",
   "execution_count": 3,
   "id": "77266fd3",
   "metadata": {},
   "outputs": [],
   "source": [
    "def get_json(url):\n",
    "    response = requests.get(url)\n",
    "    raw_data = BeautifulSoup(response.text)\n",
    "    raw_data_str = str(raw_data)\n",
    "    raw_data_str = raw_data_str[len('<html><body><p>'):-len('</p></body></html>')]\n",
    "    raw_data_js = json.loads(raw_data_str)\n",
    "    return raw_data_js"
   ]
  },
  {
   "cell_type": "code",
   "execution_count": 4,
   "id": "5f65aa0c",
   "metadata": {},
   "outputs": [],
   "source": [
    "def scrape_reviews(product_id_list, platform_id, from_page=0, until_page=6, time_ordered=False):\n",
    "    \n",
    "    assert until_page >= from_page\n",
    "    assert until_page <= 100\n",
    "        \n",
    "    if platform_id == 'PLT1':\n",
    "\n",
    "        page_range = range(from_page, until_page+1)\n",
    "        multi_product_dict = {}\n",
    "        \n",
    "        for product_id in product_id_list:\n",
    "            \n",
    "            comments_all = []\n",
    "\n",
    "            for page_ in page_range:\n",
    "\n",
    "                comments_iter = []\n",
    "\n",
    "                # generate url\n",
    "                url = generate_url(product_id, page_, platform_id, time_ordered=time_ordered)\n",
    "\n",
    "                # request web page & get json\n",
    "                raw_data_js = get_json(url)\n",
    "                \n",
    "                # create short path to comments\n",
    "                review_path_json = raw_data_js[\"result\"][\"productComments\"][\"content\"]\n",
    "\n",
    "                # get reviews for the iterated page\n",
    "                comments_iter = [review_path_json[i][\"review\"] for i in range(len(review_path_json))]\n",
    "\n",
    "                # add up to all reviews for the product\n",
    "                comments_all += comments_iter\n",
    "                \n",
    "                # track progress\n",
    "                if page_%10==0:\n",
    "                    print(\"Product:\",product_id,\"Page:\",page_)\n",
    "            \n",
    "            # update the dictionary with comments\n",
    "\n",
    "            multi_product_dict[product_id] = comments_all\n",
    "            \n",
    "    \n",
    "    elif platform_id == 'PLT2':\n",
    "\n",
    "        page_range = range(from_page, until_page)\n",
    "        multi_product_dict = {}\n",
    "\n",
    "        for product_id in product_id_list:\n",
    "\n",
    "            comments_all = []\n",
    "\n",
    "            for page_ in page_range:\n",
    "\n",
    "                comments_iter = []\n",
    "\n",
    "                # generate url\n",
    "                url = generate_url(product_id, page_, platform_id)\n",
    "                \n",
    "                # request web page & get json\n",
    "                raw_data_js = get_json(url)\n",
    "\n",
    "                # create short path to comments\n",
    "                review_path_json = raw_data_js['COMMENTS']\n",
    "\n",
    "                # get reviews for the iterated page\n",
    "                comments_iter = [review_path_json[i]['COMMENT'] for i in range(len(review_path_json))]\n",
    "\n",
    "                # add up to all reviews for the product\n",
    "                comments_all += comments_iter\n",
    "\n",
    "            # update the dictionary with comments\n",
    "\n",
    "            multi_product_dict[product_id] = comments_all\n",
    "                        \n",
    "        \n",
    "    return multi_product_dict"
   ]
  },
  {
   "cell_type": "code",
   "execution_count": 5,
   "id": "ae9a88fb",
   "metadata": {},
   "outputs": [],
   "source": [
    "def scrape_and_merge_reviews(product_id, platform):\n",
    "    multi_product_dict_ordered = scrape_reviews([product_id], platform, until_page=100, time_ordered=True)\n",
    "    multi_product_dict_not_ordered = scrape_reviews([product_id], platform, until_page=100, time_ordered=False)\n",
    "    reviews_df = pd.DataFrame({product_id: multi_product_dict_ordered[product_id]+multi_product_dict_not_ordered[product_id]})\n",
    "    reviews_df = reviews_df.drop_duplicates()\n",
    "    return reviews_df\n",
    "\n",
    "def export_reviews(reviews_df, platform):\n",
    "    date_ = datetime.today().date().isoformat()\n",
    "    file_name= platform+\"_\"+date_+\"_\"+reviews_df.columns[0]\n",
    "    f = open(file_name, 'wb') \n",
    "    pickle.dump(reviews_df, f)\n",
    "    f.close()\n",
    "    "
   ]
  },
  {
   "cell_type": "markdown",
   "id": "57eb5d8c",
   "metadata": {},
   "source": [
    "# Main Code"
   ]
  },
  {
   "cell_type": "code",
   "execution_count": 7,
   "id": "22a64dc8",
   "metadata": {},
   "outputs": [
    {
     "name": "stdout",
     "output_type": "stream",
     "text": [
      "Product: 84859 Page: 0\n",
      "Product: 84859 Page: 10\n",
      "Product: 84859 Page: 20\n",
      "Product: 84859 Page: 30\n",
      "Product: 84859 Page: 40\n",
      "Product: 84859 Page: 50\n",
      "Product: 84859 Page: 60\n",
      "Product: 84859 Page: 70\n",
      "Product: 84859 Page: 80\n",
      "Product: 84859 Page: 90\n",
      "Product: 84859 Page: 100\n",
      "Product: 84859 Page: 0\n",
      "Product: 84859 Page: 10\n",
      "Product: 84859 Page: 20\n",
      "Product: 84859 Page: 30\n",
      "Product: 84859 Page: 40\n",
      "Product: 84859 Page: 50\n",
      "Product: 84859 Page: 60\n",
      "Product: 84859 Page: 70\n",
      "Product: 84859 Page: 80\n",
      "Product: 84859 Page: 90\n",
      "Product: 84859 Page: 100\n"
     ]
    },
    {
     "data": {
      "text/html": [
       "<div>\n",
       "<style scoped>\n",
       "    .dataframe tbody tr th:only-of-type {\n",
       "        vertical-align: middle;\n",
       "    }\n",
       "\n",
       "    .dataframe tbody tr th {\n",
       "        vertical-align: top;\n",
       "    }\n",
       "\n",
       "    .dataframe thead th {\n",
       "        text-align: right;\n",
       "    }\n",
       "</style>\n",
       "<table border=\"1\" class=\"dataframe\">\n",
       "  <thead>\n",
       "    <tr style=\"text-align: right;\">\n",
       "      <th></th>\n",
       "      <th>84859</th>\n",
       "    </tr>\n",
       "  </thead>\n",
       "  <tbody>\n",
       "    <tr>\n",
       "      <th>0</th>\n",
       "      <td>basariliii</td>\n",
       "    </tr>\n",
       "    <tr>\n",
       "      <th>1</th>\n",
       "      <td>urunu kullandim guzel tesekkurler</td>\n",
       "    </tr>\n",
       "    <tr>\n",
       "      <th>2</th>\n",
       "      <td>Çok güzel çok beğendim</td>\n",
       "    </tr>\n",
       "    <tr>\n",
       "      <th>3</th>\n",
       "      <td>saçımdaki egzamayı pul pul dökülmeleri kesti y...</td>\n",
       "    </tr>\n",
       "    <tr>\n",
       "      <th>4</th>\n",
       "      <td>kepeğe çok etkili ve kaşıntıya da,mevsimsel eg...</td>\n",
       "    </tr>\n",
       "  </tbody>\n",
       "</table>\n",
       "</div>"
      ],
      "text/plain": [
       "                                               84859\n",
       "0                                         basariliii\n",
       "1                  urunu kullandim guzel tesekkurler\n",
       "2                             Çok güzel çok beğendim\n",
       "3  saçımdaki egzamayı pul pul dökülmeleri kesti y...\n",
       "4  kepeğe çok etkili ve kaşıntıya da,mevsimsel eg..."
      ]
     },
     "execution_count": 7,
     "metadata": {},
     "output_type": "execute_result"
    }
   ],
   "source": [
    "reviews_df = scrape_and_merge_reviews('84859', 'PLT1')\n",
    "reviews_df.head()"
   ]
  },
  {
   "cell_type": "code",
   "execution_count": 8,
   "id": "0d528e8f",
   "metadata": {},
   "outputs": [
    {
     "data": {
      "text/plain": [
       "4977"
      ]
     },
     "execution_count": 8,
     "metadata": {},
     "output_type": "execute_result"
    }
   ],
   "source": [
    "len(reviews_df)"
   ]
  },
  {
   "cell_type": "code",
   "execution_count": 12,
   "id": "f6384902",
   "metadata": {},
   "outputs": [],
   "source": [
    "export_reviews(reviews_df, 'PLT1')"
   ]
  },
  {
   "cell_type": "markdown",
   "id": "3b5e20f0",
   "metadata": {},
   "source": [
    "### End of notebook"
   ]
  }
 ],
 "metadata": {
  "kernelspec": {
   "display_name": "Python 3 (ipykernel)",
   "language": "python",
   "name": "python3"
  },
  "language_info": {
   "codemirror_mode": {
    "name": "ipython",
    "version": 3
   },
   "file_extension": ".py",
   "mimetype": "text/x-python",
   "name": "python",
   "nbconvert_exporter": "python",
   "pygments_lexer": "ipython3",
   "version": "3.10.5"
  }
 },
 "nbformat": 4,
 "nbformat_minor": 5
}
